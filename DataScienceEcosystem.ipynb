{
 "cells": [
  {
   "cell_type": "markdown",
   "id": "8367c5d7-97d6-4e1d-97b0-0234fde4ebe7",
   "metadata": {},
   "source": [
    "# Data Science Tools and Ecosystem"
   ]
  },
  {
   "cell_type": "markdown",
   "id": "e92ebfed-315d-41cd-ac17-f18fd6e91706",
   "metadata": {},
   "source": [
    "In this notebook, Data Science Tools and Ecosystem are summarized."
   ]
  },
  {
   "cell_type": "markdown",
   "id": "4508c522-37a0-4966-b55a-229bf633b21f",
   "metadata": {},
   "source": [
    "**Objectives:**\n",
    "\n",
    "- List popular languages for Data Science.\n",
    "- List commonly used libraries used by Data Scientists.\n",
    "- Enumerate open-source tools used in Data Science.\n",
    "- Explain the importance of data visualization.\n",
    "- Describe the steps in the data analysis process."
   ]
  },
  {
   "cell_type": "markdown",
   "id": "4d757bce-ad31-4fda-aab0-aaae89c26550",
   "metadata": {},
   "source": [
    "Some of the popular languages that Data Scientists use are:"
   ]
  },
  {
   "cell_type": "markdown",
   "id": "d4facde0-2c61-4685-a846-2d4e5b753f07",
   "metadata": {
    "tags": []
   },
   "source": [
    "1. Python"
   ]
  },
  {
   "cell_type": "markdown",
   "id": "6b447f98-5097-4a9b-9028-6317016c8bdd",
   "metadata": {},
   "source": [
    "2. R"
   ]
  },
  {
   "cell_type": "markdown",
   "id": "aea62e17-101e-4be2-8f5f-d54264d01552",
   "metadata": {},
   "source": [
    "3. SQL"
   ]
  },
  {
   "cell_type": "markdown",
   "id": "17aabf2c-a194-41f7-9c38-800c1e608e18",
   "metadata": {},
   "source": [
    "4. Julia"
   ]
  },
  {
   "cell_type": "markdown",
   "id": "c06670d0-9db7-40cf-b022-ac918398c788",
   "metadata": {},
   "source": [
    "5. SAS"
   ]
  },
  {
   "cell_type": "raw",
   "id": "09184f28-cddc-42dc-96a3-84ec6474e345",
   "metadata": {},
   "source": []
  },
  {
   "cell_type": "markdown",
   "id": "e3ded234-977a-4df3-8630-add1ca6ca5e1",
   "metadata": {},
   "source": [
    "Some of the commonly used libraries used by Data Scientists include:"
   ]
  },
  {
   "cell_type": "markdown",
   "id": "67d186c8-7d50-4f17-9599-bffb463c0f5d",
   "metadata": {},
   "source": [
    "- Pandas"
   ]
  },
  {
   "cell_type": "markdown",
   "id": "9d595775-5a91-47a1-9564-4dc8114efe19",
   "metadata": {},
   "source": [
    "- NumPy"
   ]
  },
  {
   "cell_type": "markdown",
   "id": "56535569-c404-4c50-9aae-c88b93455064",
   "metadata": {},
   "source": [
    "- Scikit-learn"
   ]
  },
  {
   "cell_type": "markdown",
   "id": "cb21e9bb-c035-4749-9f79-a9442e62e19f",
   "metadata": {},
   "source": [
    "- Matplotlib"
   ]
  },
  {
   "cell_type": "markdown",
   "id": "33588ad8-21c2-4572-8d20-f3d29c19f17b",
   "metadata": {},
   "source": [
    "- Seaborn"
   ]
  },
  {
   "cell_type": "raw",
   "id": "292e060a-1bc3-4e7e-8a07-baa687940ff6",
   "metadata": {},
   "source": []
  },
  {
   "cell_type": "markdown",
   "id": "a06874aa-b9ae-4c10-a897-10d7bd797843",
   "metadata": {
    "tags": []
   },
   "source": [
    "| Data Science Tools | \n",
    "|------------------- |\n",
    "| Jupyter Notebook   |\n",
    "| RStudio            |\n",
    "| Apache Zeppelin    |"
   ]
  },
  {
   "cell_type": "raw",
   "id": "1991bb56-29d6-4261-aa61-f9f5365c27ff",
   "metadata": {},
   "source": []
  },
  {
   "cell_type": "markdown",
   "id": "fd1d107f-61bc-4fbd-8134-89735fd4ac09",
   "metadata": {},
   "source": [
    "### Below are a few examples of evaluating arithmetic expressions in Python:"
   ]
  },
  {
   "cell_type": "code",
   "execution_count": 5,
   "id": "15b7687b-aec5-478d-9204-b3d5ce865ef0",
   "metadata": {
    "tags": []
   },
   "outputs": [],
   "source": [
    "# This a simple arithmetic expression to multiply then add integers."
   ]
  },
  {
   "cell_type": "code",
   "execution_count": 6,
   "id": "2ef666be-3d8a-4d88-9e52-7b64c0164326",
   "metadata": {
    "tags": []
   },
   "outputs": [
    {
     "data": {
      "text/plain": [
       "17"
      ]
     },
     "execution_count": 6,
     "metadata": {},
     "output_type": "execute_result"
    }
   ],
   "source": [
    "result = (3 * 4) + 5\n",
    "result"
   ]
  },
  {
   "cell_type": "code",
   "execution_count": 7,
   "id": "aa5039c8-5bc0-4d44-9a4d-ffe481c1d283",
   "metadata": {
    "tags": []
   },
   "outputs": [],
   "source": [
    "# This will convert 200 minutes to hours by diving by 60."
   ]
  },
  {
   "cell_type": "code",
   "execution_count": 8,
   "id": "28bf26f6-9d2b-48f7-b684-e6197214d52c",
   "metadata": {
    "tags": []
   },
   "outputs": [
    {
     "data": {
      "text/plain": [
       "3.3333333333333335"
      ]
     },
     "execution_count": 8,
     "metadata": {},
     "output_type": "execute_result"
    }
   ],
   "source": [
    "horas = 200 / 60\n",
    "horas"
   ]
  },
  {
   "cell_type": "raw",
   "id": "a06e9cd1-1060-4193-9424-39df72ef8f10",
   "metadata": {},
   "source": []
  },
  {
   "cell_type": "markdown",
   "id": "661e428f-9c6a-404a-b9a3-e70482f3b66a",
   "metadata": {},
   "source": [
    "## Author"
   ]
  },
  {
   "cell_type": "markdown",
   "id": "304eea21-934e-4532-9533-83fe1acb6f97",
   "metadata": {},
   "source": [
    "Hernan Matias Dichiara"
   ]
  },
  {
   "cell_type": "markdown",
   "id": "555f700b-2183-4487-b023-f3206106da18",
   "metadata": {},
   "source": []
  },
  {
   "cell_type": "code",
   "execution_count": null,
   "id": "5092918e-13e8-4590-a8aa-2ed58f302c7f",
   "metadata": {},
   "outputs": [],
   "source": []
  },
  {
   "cell_type": "code",
   "execution_count": null,
   "id": "f1756544-dd36-420d-a5be-2263634eddbd",
   "metadata": {},
   "outputs": [],
   "source": []
  },
  {
   "cell_type": "code",
   "execution_count": null,
   "id": "91af90f9-c049-416a-8d48-fe375bef0414",
   "metadata": {},
   "outputs": [],
   "source": []
  },
  {
   "cell_type": "code",
   "execution_count": null,
   "id": "1bfe4d18-6590-424f-9d66-b0f31f255029",
   "metadata": {},
   "outputs": [],
   "source": []
  },
  {
   "cell_type": "code",
   "execution_count": null,
   "id": "4e450522-9ef2-4ea9-af52-c3dcf5b7a7da",
   "metadata": {},
   "outputs": [],
   "source": []
  },
  {
   "cell_type": "code",
   "execution_count": null,
   "id": "6f1e8b9a-e535-4ad8-a657-83fb6e96289b",
   "metadata": {},
   "outputs": [],
   "source": []
  },
  {
   "cell_type": "code",
   "execution_count": null,
   "id": "3fb31bf7-27c1-4a95-98f8-4372795e9eeb",
   "metadata": {},
   "outputs": [],
   "source": []
  },
  {
   "cell_type": "code",
   "execution_count": null,
   "id": "448c73c4-4aeb-44f1-b2ec-9ce13e598380",
   "metadata": {},
   "outputs": [],
   "source": []
  },
  {
   "cell_type": "code",
   "execution_count": null,
   "id": "543b37c9-ee36-4341-b2e2-2a67d751a926",
   "metadata": {},
   "outputs": [],
   "source": []
  }
 ],
 "metadata": {
  "kernelspec": {
   "display_name": "Python",
   "language": "python",
   "name": "conda-env-python-py"
  },
  "language_info": {
   "codemirror_mode": {
    "name": "ipython",
    "version": 3
   },
   "file_extension": ".py",
   "mimetype": "text/x-python",
   "name": "python",
   "nbconvert_exporter": "python",
   "pygments_lexer": "ipython3",
   "version": "3.7.12"
  }
 },
 "nbformat": 4,
 "nbformat_minor": 5
}
